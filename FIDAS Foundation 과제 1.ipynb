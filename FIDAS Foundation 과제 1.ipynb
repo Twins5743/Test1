{
 "cells": [
  {
   "cell_type": "markdown",
   "metadata": {},
   "source": [
    "1. 아래 조건을 이용해서 내 신용등급을 출력하는 코딩을 만드세요. \n",
    "(if 조건문을 이용하고 사용자에게 신용점수를 직접 입력받게 하세요)\n",
    "> 100 ~ 90: 1\n",
    ">\n",
    "> 89 ~ 80: 2\n",
    ">\n",
    "> 79 ~ 70: 3\n",
    ">\n",
    "> 69 ~ 0: 4\n"
   ]
  },
  {
   "cell_type": "code",
   "execution_count": 3,
   "metadata": {},
   "outputs": [
    {
     "name": "stdout",
     "output_type": "stream",
     "text": [
      "신용등급을 입력하세요.: 90\n",
      "1등급입니다.\n"
     ]
    }
   ],
   "source": [
    "\n"
   ]
  },
  {
   "cell_type": "markdown",
   "metadata": {},
   "source": [
    "2. 3개의 인자를 넣으면 평균을 반환하는 함수를 만드세요"
   ]
  },
  {
   "cell_type": "code",
   "execution_count": 4,
   "metadata": {},
   "outputs": [],
   "source": []
  },
  {
   "cell_type": "code",
   "execution_count": 5,
   "metadata": {},
   "outputs": [
    {
     "data": {
      "text/plain": [
       "37.0"
      ]
     },
     "execution_count": 5,
     "metadata": {},
     "output_type": "execute_result"
    }
   ],
   "source": []
  },
  {
   "cell_type": "markdown",
   "metadata": {},
   "source": [
    "3.  리스트에서 요소를 추가할 때 쓰는 함수와 제거할 때 쓰는 함수는?"
   ]
  },
  {
   "cell_type": "code",
   "execution_count": null,
   "metadata": {},
   "outputs": [],
   "source": []
  },
  {
   "cell_type": "markdown",
   "metadata": {},
   "source": [
    "4. **Q. 각자 원하는 주식 코드(Quote)를 찾아서 분석하는 시각화를 시도해 보세요!**\n",
    "\n",
    "> http://finance.naver.com/에서 찾아볼 수 있습니다."
   ]
  },
  {
   "cell_type": "code",
   "execution_count": null,
   "metadata": {},
   "outputs": [],
   "source": []
  }
 ],
 "metadata": {
  "kernelspec": {
   "display_name": "Python 3",
   "language": "python",
   "name": "python3"
  },
  "language_info": {
   "codemirror_mode": {
    "name": "ipython",
    "version": 3
   },
   "file_extension": ".py",
   "mimetype": "text/x-python",
   "name": "python",
   "nbconvert_exporter": "python",
   "pygments_lexer": "ipython3",
   "version": "3.7.6"
  }
 },
 "nbformat": 4,
 "nbformat_minor": 4
}
